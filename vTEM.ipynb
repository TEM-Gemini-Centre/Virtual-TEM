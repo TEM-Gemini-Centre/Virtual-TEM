{
 "cells": [
  {
   "cell_type": "code",
   "execution_count": 1,
   "metadata": {
    "collapsed": true
   },
   "outputs": [],
   "source": [
    "%matplotlib qt\n",
    "import matplotlib.pyplot as plt\n",
    "import vTEM as vtem\n",
    "import numpy as np\n",
    "from math import sqrt, sin, pi"
   ]
  },
  {
   "cell_type": "code",
   "execution_count": 4,
   "outputs": [
    {
     "name": "stdout",
     "output_type": "stream",
     "text": [
      "Ray \"Initial\": (15.00, 15.00) -> (15.00, 10.00) (0.00 deg) Ray \"Transmitted (CL1)\": (15.00, 10.00) -> (-0.00, 8.00) (-82.41 deg)\n",
      "Ray \"Transmitted (CL1)\": (15.00, 10.00) -> (-22.50, 5.00) (-82.41 deg) Ray \"Transmitted (CL2)\": (-22.50, 5.00) -> (-22.50, 2.00) (0.00 deg)\n",
      "Ray \"Transmitted (CL2)\": (-22.50, 5.00) -> (-22.50, 2.00) (0.00 deg) Ray \"Transmitted (CM)\": (-22.50, 2.00) -> (-5.00, -3.00) (74.05 deg)\n"
     ]
    }
   ],
   "source": [
    "start = vtem.RayNode((15, 15), name='start')\n",
    "end = vtem.RayNode((15, 0), name = 'end')\n",
    "initial_ray = vtem.Ray(start, end, name='Initial')\n",
    "CL1 = vtem.Lens(10, 2, x=0, name='CL1')\n",
    "CL2 = vtem.Lens(5, 3, x = 0, name='CL2')\n",
    "CM = vtem.Lens(2, 5, x=-5, name ='CM')\n",
    "lenses = [CL1, CL2, CM]\n",
    "rays = [initial_ray]\n",
    "for n, lens in enumerate(lenses):\n",
    "    ray = rays[n]\n",
    "    transmitted_ray = lens(ray)\n",
    "    transmitted_ray.name = 'Transmitted ({lens.name})'.format(lens=lens)\n",
    "    print(ray, transmitted_ray)\n",
    "    rays.append(transmitted_ray)\n",
    "\n",
    "fig = plt.figure()\n",
    "ax = fig.add_subplot()\n",
    "for ray in rays:\n",
    "    ray.show(ax, 'r.', alpha=0.8, arrowprops={'color':'r', 'alpha': 0.1})\n",
    "for lens in lenses:\n",
    "    lens.size=120\n",
    "    lens.show(ax, lensprops={'ffp':{'linestyle':':', 'color': 'k', 'alpha': 0.1}})"
   ],
   "metadata": {
    "collapsed": false,
    "pycharm": {
     "name": "#%%\n"
    }
   }
  },
  {
   "cell_type": "code",
   "execution_count": 22,
   "outputs": [
    {
     "name": "stdout",
     "output_type": "stream",
     "text": [
      "Ray \"\": (15.00, 15.00) -> (0.00, 0.00) (-45.00 deg)\n",
      "Ray \"\": (15.00, 15.00) -> (10.00, 10.00) (-45.00 deg)\n"
     ]
    }
   ],
   "source": [
    "start = vtem.RayNode((15, 15), name='start')\n",
    "end = vtem.RayNode((0, 0), name = 'end')\n",
    "ray = vtem.Ray(start, end)\n",
    "print(ray)\n",
    "ray.extend(10)\n",
    "print(ray)"
   ],
   "metadata": {
    "collapsed": false,
    "pycharm": {
     "name": "#%%\n"
    }
   }
  },
  {
   "cell_type": "code",
   "execution_count": 2,
   "outputs": [
    {
     "name": "stdout",
     "output_type": "stream",
     "text": [
      "RayNode \" (start)\": (0.00, 0.00)\n",
      "RayNode \" (end)\": (10.00, -9.00)\n",
      "Ray \"\": (0.00, 0.00) -> (10.00, -9.00) (48.01 deg)\n"
     ]
    }
   ],
   "source": [
    "start = vtem.RayNode((0., 0.), name='start')\n",
    "end = vtem.RayNode((10., -9.), name = 'end')\n",
    "ray = vtem.Ray(start, end)\n",
    "\n",
    "print(start)\n",
    "print(end)\n",
    "print(ray)\n",
    "\n",
    "fig = plt.figure()\n",
    "ax = fig.add_subplot()\n",
    "ray.show(ax, 'r')"
   ],
   "metadata": {
    "collapsed": false,
    "pycharm": {
     "name": "#%%\n"
    }
   }
  },
  {
   "cell_type": "code",
   "execution_count": 6,
   "outputs": [
    {
     "data": {
      "text/plain": "1.1111111111111112"
     },
     "execution_count": 6,
     "metadata": {},
     "output_type": "execute_result"
    }
   ],
   "source": [
    "ray[0].x_at_y(-1)"
   ],
   "metadata": {
    "collapsed": false,
    "pycharm": {
     "name": "#%%\n"
    }
   }
  },
  {
   "cell_type": "code",
   "execution_count": null,
   "outputs": [],
   "source": [],
   "metadata": {
    "collapsed": false,
    "pycharm": {
     "name": "#%%start is end\n"
    }
   }
  },
  {
   "cell_type": "code",
   "execution_count": 9,
   "outputs": [
    {
     "ename": "ValueError",
     "evalue": "Could not add Node RayNode(3, -11, name=middle) to Ray(RayNode(0.0, 0.0, name= (start)), RayNode(0.0, -10.0, name= (end))). It does not fit between RayNode(0.0, 0.0, name= (start)) and RayNode(0.0, -10.0, name= (end))",
     "output_type": "error",
     "traceback": [
      "\u001B[1;31m---------------------------------------------------------------------------\u001B[0m",
      "\u001B[1;31mValueError\u001B[0m                                Traceback (most recent call last)",
      "\u001B[1;32m<ipython-input-9-556275a1338d>\u001B[0m in \u001B[0;36m<module>\u001B[1;34m\u001B[0m\n\u001B[0;32m      3\u001B[0m \u001B[0mend\u001B[0m \u001B[1;33m=\u001B[0m \u001B[0mvtem\u001B[0m\u001B[1;33m.\u001B[0m\u001B[0mRayNode\u001B[0m\u001B[1;33m(\u001B[0m\u001B[1;33m(\u001B[0m\u001B[1;36m0.\u001B[0m\u001B[1;33m,\u001B[0m \u001B[1;33m-\u001B[0m\u001B[1;36m10.\u001B[0m\u001B[1;33m)\u001B[0m\u001B[1;33m,\u001B[0m \u001B[0mname\u001B[0m \u001B[1;33m=\u001B[0m \u001B[1;34m'end'\u001B[0m\u001B[1;33m)\u001B[0m\u001B[1;33m\u001B[0m\u001B[1;33m\u001B[0m\u001B[0m\n\u001B[0;32m      4\u001B[0m \u001B[0mray\u001B[0m \u001B[1;33m=\u001B[0m \u001B[0mvtem\u001B[0m\u001B[1;33m.\u001B[0m\u001B[0mRay\u001B[0m\u001B[1;33m(\u001B[0m\u001B[0mstart\u001B[0m\u001B[1;33m,\u001B[0m \u001B[0mend\u001B[0m\u001B[1;33m)\u001B[0m\u001B[1;33m\u001B[0m\u001B[1;33m\u001B[0m\u001B[0m\n\u001B[1;32m----> 5\u001B[1;33m \u001B[0mray\u001B[0m\u001B[1;33m+=\u001B[0m\u001B[0mmiddle\u001B[0m\u001B[1;33m\u001B[0m\u001B[1;33m\u001B[0m\u001B[0m\n\u001B[0m\u001B[0;32m      6\u001B[0m \u001B[0mprint\u001B[0m\u001B[1;33m(\u001B[0m\u001B[0mray\u001B[0m\u001B[1;33m)\u001B[0m\u001B[1;33m\u001B[0m\u001B[1;33m\u001B[0m\u001B[0m\n\u001B[0;32m      7\u001B[0m \u001B[0mfig\u001B[0m \u001B[1;33m=\u001B[0m \u001B[0mplt\u001B[0m\u001B[1;33m.\u001B[0m\u001B[0mfigure\u001B[0m\u001B[1;33m(\u001B[0m\u001B[1;33m)\u001B[0m\u001B[1;33m\u001B[0m\u001B[1;33m\u001B[0m\u001B[0m\n",
      "\u001B[1;32m~\\OneDrive - NTNU\\NORTEM\\Projects\\vTEM\\Virtual TEM\\vTEM\\Rays\\ray.py\u001B[0m in \u001B[0;36m__iadd__\u001B[1;34m(self, other)\u001B[0m\n\u001B[0;32m    412\u001B[0m \u001B[1;33m\u001B[0m\u001B[0m\n\u001B[0;32m    413\u001B[0m     \u001B[1;32mdef\u001B[0m \u001B[0m__iadd__\u001B[0m\u001B[1;33m(\u001B[0m\u001B[0mself\u001B[0m\u001B[1;33m,\u001B[0m \u001B[0mother\u001B[0m\u001B[1;33m)\u001B[0m\u001B[1;33m:\u001B[0m\u001B[1;33m\u001B[0m\u001B[1;33m\u001B[0m\u001B[0m\n\u001B[1;32m--> 414\u001B[1;33m         \u001B[0mself\u001B[0m\u001B[1;33m.\u001B[0m\u001B[0madd_node\u001B[0m\u001B[1;33m(\u001B[0m\u001B[0mother\u001B[0m\u001B[1;33m)\u001B[0m\u001B[1;33m\u001B[0m\u001B[1;33m\u001B[0m\u001B[0m\n\u001B[0m\u001B[0;32m    415\u001B[0m         \u001B[1;32mreturn\u001B[0m \u001B[0mself\u001B[0m\u001B[1;33m\u001B[0m\u001B[1;33m\u001B[0m\u001B[0m\n\u001B[0;32m    416\u001B[0m \u001B[1;33m\u001B[0m\u001B[0m\n",
      "\u001B[1;32m~\\OneDrive - NTNU\\NORTEM\\Projects\\vTEM\\Virtual TEM\\vTEM\\Rays\\ray.py\u001B[0m in \u001B[0;36madd_node\u001B[1;34m(self, node)\u001B[0m\n\u001B[0;32m    431\u001B[0m                 \u001B[1;32mbreak\u001B[0m\u001B[1;33m\u001B[0m\u001B[1;33m\u001B[0m\u001B[0m\n\u001B[0;32m    432\u001B[0m         \u001B[1;32mif\u001B[0m \u001B[1;32mnot\u001B[0m \u001B[0madded\u001B[0m\u001B[1;33m:\u001B[0m\u001B[1;33m\u001B[0m\u001B[1;33m\u001B[0m\u001B[0m\n\u001B[1;32m--> 433\u001B[1;33m             raise ValueError(\n\u001B[0m\u001B[0;32m    434\u001B[0m                 'Could not add Node {node!r} to {self!r}. It does not fit between {self.source!r} and {self.end!r}'.format(\n\u001B[0;32m    435\u001B[0m                     node=node, self=self))\n",
      "\u001B[1;31mValueError\u001B[0m: Could not add Node RayNode(3, -11, name=middle) to Ray(RayNode(0.0, 0.0, name= (start)), RayNode(0.0, -10.0, name= (end))). It does not fit between RayNode(0.0, 0.0, name= (start)) and RayNode(0.0, -10.0, name= (end))"
     ]
    }
   ],
   "source": [
    "start = vtem.RayNode((0., 0.), name='start')\n",
    "middle= vtem.RayNode((3, -11), name='middle')\n",
    "end = vtem.RayNode((0., -10.), name = 'end')\n",
    "ray = vtem.Ray(start, end)\n",
    "ray+=middle\n",
    "print(ray)\n",
    "fig = plt.figure()\n",
    "ax = fig.add_subplot()\n",
    "ray.show(ax, '-r')"
   ],
   "metadata": {
    "collapsed": false,
    "pycharm": {
     "name": "#%%\n"
    }
   }
  },
  {
   "cell_type": "code",
   "execution_count": 8,
   "outputs": [
    {
     "name": "stdout",
     "output_type": "stream",
     "text": [
      "Ray with segments:\n",
      "(0.00, 0.00) -> (0.00, -10.00) (0.00 deg)\n",
      "(0.00, 0.00) -> (0.00, -10.00) (0.00 deg)\n"
     ]
    }
   ],
   "source": [
    "ray-=middle\n",
    "print(ray)\n",
    "fig = plt.figure()\n",
    "ax = fig.add_subplot()\n",
    "ray.show(ax, '-r')"
   ],
   "metadata": {
    "collapsed": false,
    "pycharm": {
     "name": "#%%\n"
    }
   }
  },
  {
   "cell_type": "code",
   "execution_count": 10,
   "outputs": [
    {
     "name": "stdout",
     "output_type": "stream",
     "text": [
      "Ray \"-90.0\": (0.00, 0.00) -> (-inf, 0.00) (-90.00 deg)\n",
      "Ray \"-70.0\": (0.00, 0.00) -> (-0.27, -0.10) (-70.00 deg)\n",
      "Ray \"-50.0\": (0.00, 0.00) -> (-0.12, -0.10) (-50.00 deg)\n",
      "Ray \"-30.0\": (0.00, 0.00) -> (-0.06, -0.10) (-30.00 deg)\n",
      "Ray \"-10.0\": (0.00, 0.00) -> (-0.02, -0.10) (-10.00 deg)\n",
      "Ray \"10.0\": (0.00, 0.00) -> (0.02, -0.10) (10.00 deg)\n",
      "Ray \"30.0\": (0.00, 0.00) -> (0.06, -0.10) (30.00 deg)\n",
      "Ray \"50.0\": (0.00, 0.00) -> (0.12, -0.10) (50.00 deg)\n",
      "Ray \"70.0\": (0.00, 0.00) -> (0.27, -0.10) (70.00 deg)\n",
      "Ray \"90.0\": (0.00, 0.00) -> (inf, 0.00) (90.00 deg)\n"
     ]
    }
   ],
   "source": [
    "start = vtem.RayNode((0., 0.), name='start')\n",
    "\n",
    "angles = np.linspace(-90, 90, 10)#np.arange(-90, 95, 0.5)\n",
    "fig = plt.figure()\n",
    "ax = fig.add_subplot()\n",
    "for angle in angles:\n",
    "    end = vtem.RayNode((0, -0.1), name = 'end')\n",
    "    try:\n",
    "        ray = vtem.Ray(start, end, angle=angle,     name='{}'.format(angle))\n",
    "        print(ray)\n",
    "    except Exception as e:\n",
    "        print(start)\n",
    "        print(end)\n",
    "        print(ray.dx())\n",
    "        print(ray.dy())\n",
    "        raise e\n",
    "\n",
    "    ray.show(ax, 'r')"
   ],
   "metadata": {
    "collapsed": false,
    "pycharm": {
     "name": "#%%\n"
    }
   }
  },
  {
   "cell_type": "code",
   "execution_count": 16,
   "outputs": [
    {
     "name": "stderr",
     "output_type": "stream",
     "text": [
      "<ipython-input-16-764c3844c50f>:1: RuntimeWarning: invalid value encountered in arcsin\n",
      "  np.arcsin(ray.dx() / ray.dy())\n"
     ]
    },
    {
     "data": {
      "text/plain": "nan"
     },
     "execution_count": 16,
     "metadata": {},
     "output_type": "execute_result"
    }
   ],
   "source": [
    "np.arcsin(ray.dx() / ray.dy())"
   ],
   "metadata": {
    "collapsed": false,
    "pycharm": {
     "name": "#%%\n"
    }
   }
  },
  {
   "cell_type": "code",
   "execution_count": 13,
   "outputs": [
    {
     "ename": "ValueError",
     "evalue": "math domain error",
     "output_type": "error",
     "traceback": [
      "\u001B[1;31m---------------------------------------------------------------------------\u001B[0m",
      "\u001B[1;31mValueError\u001B[0m                                Traceback (most recent call last)",
      "\u001B[1;32m<ipython-input-13-ff16da83b4b1>\u001B[0m in \u001B[0;36m<module>\u001B[1;34m\u001B[0m\n\u001B[0;32m      1\u001B[0m \u001B[1;32mfrom\u001B[0m \u001B[0mmath\u001B[0m \u001B[1;32mimport\u001B[0m \u001B[0masin\u001B[0m\u001B[1;33m\u001B[0m\u001B[1;33m\u001B[0m\u001B[0m\n\u001B[0;32m      2\u001B[0m \u001B[1;31m#print(end)\u001B[0m\u001B[1;33m\u001B[0m\u001B[1;33m\u001B[0m\u001B[1;33m\u001B[0m\u001B[0m\n\u001B[1;32m----> 3\u001B[1;33m \u001B[0masin\u001B[0m\u001B[1;33m(\u001B[0m\u001B[0mray\u001B[0m\u001B[1;33m.\u001B[0m\u001B[0mdx\u001B[0m\u001B[1;33m(\u001B[0m\u001B[1;33m)\u001B[0m\u001B[1;33m)\u001B[0m\u001B[1;33m\u001B[0m\u001B[1;33m\u001B[0m\u001B[0m\n\u001B[0m",
      "\u001B[1;31mValueError\u001B[0m: math domain error"
     ]
    }
   ],
   "source": [
    "from math import asin\n",
    "#print(end)\n",
    "asin(ray.dx())"
   ],
   "metadata": {
    "collapsed": false,
    "pycharm": {
     "name": "#%%\n"
    }
   }
  },
  {
   "cell_type": "code",
   "execution_count": null,
   "outputs": [],
   "source": [
    "10/sqrt(2)"
   ],
   "metadata": {
    "collapsed": false,
    "pycharm": {
     "name": "#%%\n"
    }
   }
  },
  {
   "cell_type": "code",
   "execution_count": 10,
   "outputs": [
    {
     "data": {
      "text/plain": "0.7071067811865476"
     },
     "execution_count": 10,
     "metadata": {},
     "output_type": "execute_result"
    }
   ],
   "source": [
    "sin(45*pi/180)\n"
   ],
   "metadata": {
    "collapsed": false,
    "pycharm": {
     "name": "#%%\n"
    }
   }
  },
  {
   "cell_type": "code",
   "execution_count": 9,
   "outputs": [
    {
     "data": {
      "text/plain": "0"
     },
     "execution_count": 9,
     "metadata": {},
     "output_type": "execute_result"
    }
   ],
   "source": [
    "-270%90\n"
   ],
   "metadata": {
    "collapsed": false,
    "pycharm": {
     "name": "#%%\n"
    }
   }
  },
  {
   "cell_type": "code",
   "execution_count": 18,
   "outputs": [
    {
     "data": {
      "text/plain": "270"
     },
     "execution_count": 18,
     "metadata": {},
     "output_type": "execute_result"
    }
   ],
   "source": [
    "270%360"
   ],
   "metadata": {
    "collapsed": false,
    "pycharm": {
     "name": "#%%\n"
    }
   }
  },
  {
   "cell_type": "code",
   "execution_count": 7,
   "outputs": [
    {
     "data": {
      "text/plain": "[<matplotlib.lines.Line2D at 0x202dc21bc40>]"
     },
     "execution_count": 7,
     "metadata": {},
     "output_type": "execute_result"
    }
   ],
   "source": [
    "angles = np.arange(-360*2, 360*2, 1)\n",
    "_angles = []\n",
    "for angle in angles:\n",
    "    a = angle%360\n",
    "    if a > 180:\n",
    "        a = a - 360\n",
    "    _angles.append(a)\n",
    "_angles = np.array(_angles)\n",
    "#a = np.array([(ang%180)*(ang/abs(ang)) if ang%180for ang in angle])\n",
    "#a[angle<0] = -a[angle<0]\n",
    "fig = plt.figure()\n",
    "ax = fig.add_subplot()\n",
    "ax.plot(angles, _angles)"
   ],
   "metadata": {
    "collapsed": false,
    "pycharm": {
     "name": "#%%\n"
    }
   }
  },
  {
   "cell_type": "code",
   "execution_count": 55,
   "outputs": [
    {
     "data": {
      "text/plain": "[<matplotlib.lines.Line2D at 0x28212692a00>]"
     },
     "execution_count": 55,
     "metadata": {},
     "output_type": "execute_result"
    }
   ],
   "source": [
    "angles = np.arange(-360*2, 360*2, 1)\n",
    "a = np.array([angle % 360 if angle%360 < 180 else angle%360 - 360 for angle in angles])\n",
    "fig = plt.figure()\n",
    "ax = fig.add_subplot()\n",
    "ax.plot(angles, a, '.')\n"
   ],
   "metadata": {
    "collapsed": false,
    "pycharm": {
     "name": "#%%\n"
    }
   }
  },
  {
   "cell_type": "code",
   "execution_count": 9,
   "outputs": [
    {
     "data": {
      "text/plain": "0.0"
     },
     "execution_count": 9,
     "metadata": {},
     "output_type": "execute_result"
    }
   ],
   "source": [
    "vtem.reduce_angle(-90) %90"
   ],
   "metadata": {
    "collapsed": false,
    "pycharm": {
     "name": "#%%\n"
    }
   }
  },
  {
   "cell_type": "code",
   "execution_count": 4,
   "outputs": [],
   "source": [
    "from math import tan\n",
    "\n"
   ],
   "metadata": {
    "collapsed": false,
    "pycharm": {
     "name": "#%%\n"
    }
   }
  },
  {
   "cell_type": "code",
   "execution_count": 12,
   "outputs": [
    {
     "data": {
      "text/plain": "<matplotlib.collections.PathCollection at 0x298d8721a00>"
     },
     "execution_count": 12,
     "metadata": {},
     "output_type": "execute_result"
    }
   ],
   "source": [
    "angles = np.arange(-360, 360)\n",
    "angles[angles%90==0] = 0\n",
    "fig = plt.figure()\n",
    "ax = fig.add_subplot()\n",
    "ax.scatter(angles, [tan(vtem.reduce_angle(angle)*pi/180) if abs(vtem.reduce_angle(angle))<90 else -tan(vtem.reduce_angle(angle)*pi/180) for angle in angles])"
   ],
   "metadata": {
    "collapsed": false,
    "pycharm": {
     "name": "#%%\n"
    }
   }
  },
  {
   "cell_type": "code",
   "execution_count": 33,
   "outputs": [
    {
     "data": {
      "text/plain": "0"
     },
     "execution_count": 33,
     "metadata": {},
     "output_type": "execute_result"
    }
   ],
   "source": [
    "270%90"
   ],
   "metadata": {
    "collapsed": false,
    "pycharm": {
     "name": "#%%\n"
    }
   }
  },
  {
   "cell_type": "code",
   "execution_count": 36,
   "outputs": [
    {
     "data": {
      "text/plain": "0"
     },
     "execution_count": 36,
     "metadata": {},
     "output_type": "execute_result"
    }
   ],
   "source": [
    "180%90"
   ],
   "metadata": {
    "collapsed": false,
    "pycharm": {
     "name": "#%%\n"
    }
   }
  },
  {
   "cell_type": "code",
   "execution_count": 38,
   "outputs": [
    {
     "data": {
      "text/plain": "90"
     },
     "execution_count": 38,
     "metadata": {},
     "output_type": "execute_result"
    }
   ],
   "source": [
    "90%180"
   ],
   "metadata": {
    "collapsed": false,
    "pycharm": {
     "name": "#%%\n"
    }
   }
  },
  {
   "cell_type": "code",
   "execution_count": 3,
   "outputs": [
    {
     "data": {
      "text/plain": "array([1.        , 1.41421356, 1.73205081])"
     },
     "execution_count": 3,
     "metadata": {},
     "output_type": "execute_result"
    }
   ],
   "source": [
    "np.sqrt(np.array([1, 2, 3]))\n",
    "\n",
    "\n"
   ],
   "metadata": {
    "collapsed": false,
    "pycharm": {
     "name": "#%%\n"
    }
   }
  },
  {
   "cell_type": "code",
   "execution_count": 4,
   "outputs": [
    {
     "data": {
      "text/plain": "array([array([0., 0.]), array([10., 10.])], dtype=object)"
     },
     "execution_count": 4,
     "metadata": {},
     "output_type": "execute_result"
    }
   ],
   "source": [
    "end - start"
   ],
   "metadata": {
    "collapsed": false,
    "pycharm": {
     "name": "#%%\n"
    }
   }
  },
  {
   "cell_type": "code",
   "execution_count": 6,
   "outputs": [
    {
     "data": {
      "text/plain": "array([ 0., 10.])"
     },
     "execution_count": 6,
     "metadata": {},
     "output_type": "execute_result"
    }
   ],
   "source": [
    "end.position - start.position"
   ],
   "metadata": {
    "collapsed": false,
    "pycharm": {
     "name": "#%%\n"
    }
   }
  },
  {
   "cell_type": "code",
   "execution_count": 3,
   "outputs": [
    {
     "data": {
      "text/plain": "array([ 10., -10.])"
     },
     "execution_count": 3,
     "metadata": {},
     "output_type": "execute_result"
    }
   ],
   "source": [
    "end-start\n",
    "\n",
    "\n",
    "end + start"
   ],
   "metadata": {
    "collapsed": false,
    "pycharm": {
     "name": "#%%\n"
    }
   }
  },
  {
   "cell_type": "code",
   "execution_count": 4,
   "outputs": [
    {
     "data": {
      "text/plain": "array([array([10., 10.]), array([-10., -10.])], dtype=object)"
     },
     "execution_count": 4,
     "metadata": {},
     "output_type": "execute_result"
    }
   ],
   "source": [
    "end-start"
   ],
   "metadata": {
    "collapsed": false,
    "pycharm": {
     "name": "#%%\n"
    }
   }
  },
  {
   "cell_type": "code",
   "execution_count": 5,
   "outputs": [
    {
     "data": {
      "text/plain": "array([ 0.17455065, 10.        ])"
     },
     "execution_count": 5,
     "metadata": {},
     "output_type": "execute_result"
    }
   ],
   "source": [
    "end-start\n"
   ],
   "metadata": {
    "collapsed": false,
    "pycharm": {
     "name": "#%%\n"
    }
   }
  },
  {
   "cell_type": "code",
   "execution_count": 13,
   "outputs": [
    {
     "name": "stdout",
     "output_type": "stream",
     "text": [
      "[RayNode(0, 0.3213621828202542, name=), RayNode(0, 0.41906329538504594, name=), RayNode(0, 0.4844707109608146, name=), RayNode(0, 0.6710663260604717, name=)]\n"
     ]
    }
   ],
   "source": [
    "l = list([vtem.RayNode(0, y) for y in np.random.random(4)])\n",
    "l.sort(key=lambda x: x.y)\n",
    "print(l)"
   ],
   "metadata": {
    "collapsed": false,
    "pycharm": {
     "name": "#%%\n"
    }
   }
  },
  {
   "cell_type": "code",
   "execution_count": 6,
   "outputs": [
    {
     "data": {
      "text/plain": "45.0"
     },
     "execution_count": 6,
     "metadata": {},
     "output_type": "execute_result"
    }
   ],
   "source": [
    "np.arctan(1)*180./np.pi\n",
    "\n"
   ],
   "metadata": {
    "collapsed": false,
    "pycharm": {
     "name": "#%%\n"
    }
   }
  },
  {
   "cell_type": "code",
   "execution_count": 4,
   "outputs": [
    {
     "name": "stdout",
     "output_type": "stream",
     "text": [
      "{'test': 'hei'}\n",
      "{'test': 'hei'}\n"
     ]
    }
   ],
   "source": [
    "test = {'test': 'hei'}\n",
    "print(test)\n",
    "test.update({})\n",
    "print(test)"
   ],
   "metadata": {
    "collapsed": false,
    "pycharm": {
     "name": "#%%\n"
    }
   }
  },
  {
   "cell_type": "code",
   "execution_count": null,
   "outputs": [],
   "source": [
    "\n"
   ],
   "metadata": {
    "collapsed": false,
    "pycharm": {
     "name": "#%%\n"
    }
   }
  }
 ],
 "metadata": {
  "kernelspec": {
   "display_name": "Python 3",
   "language": "python",
   "name": "python3"
  },
  "language_info": {
   "codemirror_mode": {
    "name": "ipython",
    "version": 2
   },
   "file_extension": ".py",
   "mimetype": "text/x-python",
   "name": "python",
   "nbconvert_exporter": "python",
   "pygments_lexer": "ipython2",
   "version": "2.7.6"
  }
 },
 "nbformat": 4,
 "nbformat_minor": 0
}